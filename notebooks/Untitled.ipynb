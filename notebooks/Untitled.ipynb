{
 "cells": [
  {
   "cell_type": "code",
   "execution_count": 43,
   "metadata": {},
   "outputs": [],
   "source": [
    "import numpy as np\n",
    "import cv2\n",
    "import matplotlib.pyplot as plt\n",
    "import tensorflow as tf\n",
    "\n",
    "%matplotlib inline"
   ]
  },
  {
   "cell_type": "code",
   "execution_count": 44,
   "metadata": {},
   "outputs": [],
   "source": [
    "from tensorflow import keras \n",
    "from tensorflow.keras.layers import *\n",
    "from tensorflow.keras.preprocessing.image import ImageDataGenerator"
   ]
  },
  {
   "cell_type": "code",
   "execution_count": 45,
   "metadata": {},
   "outputs": [],
   "source": [
    "(x_train, y_train), (x_test, y_test) = keras.datasets.mnist.load_data()"
   ]
  },
  {
   "cell_type": "code",
   "execution_count": 46,
   "metadata": {},
   "outputs": [],
   "source": [
    "x_train = x_train.reshape(-1,28,28,1) / 255\n",
    "x_test = x_test.reshape(-1,28,28,1) / 255"
   ]
  },
  {
   "cell_type": "markdown",
   "metadata": {},
   "source": [
    "### Net"
   ]
  },
  {
   "cell_type": "code",
   "execution_count": 47,
   "metadata": {},
   "outputs": [],
   "source": [
    "y_train = keras.utils.to_categorical(y_train)"
   ]
  },
  {
   "cell_type": "code",
   "execution_count": 48,
   "metadata": {},
   "outputs": [],
   "source": [
    "_input = Input(shape=(28,28,1))\n",
    "\n",
    "conv0 = Conv2D(32,3,activation=\"relu\",padding=\"same\")(_input)\n",
    "conv1 = Conv2D(32,3,activation=\"relu\",padding=\"same\")(concatenate([_input,conv0]))\n",
    "pool1 = MaxPool2D()(conv1)\n",
    "\n",
    "conv2 = Conv2D(48,3,activation=\"relu\",padding=\"same\")(pool1)\n",
    "conv3 = Conv2D(48,3,activation=\"relu\",padding=\"same\")(concatenate([pool1,conv2]))\n",
    "pool2 = MaxPool2D()(conv3)\n",
    "\n",
    "norm = BatchNormalization()(pool2)\n",
    "flat = Flatten()(norm)\n",
    "\n",
    "dense0 = Dense(1024,activation=\"relu\")(flat)\n",
    "dense1 = Dense(512,activation=\"relu\")(dense0)\n",
    "out = Dense(10,activation=\"softmax\")(dense1)\n",
    "\n",
    "model = keras.Model(_input,out)"
   ]
  },
  {
   "cell_type": "code",
   "execution_count": 51,
   "metadata": {},
   "outputs": [],
   "source": [
    "model.compile(optimizer=\"adam\",loss=\"categorical_crossentropy\",metrics=['accuracy'])"
   ]
  },
  {
   "cell_type": "code",
   "execution_count": 52,
   "metadata": {},
   "outputs": [
    {
     "name": "stdout",
     "output_type": "stream",
     "text": [
      "Train on 60000 samples\n",
      "Epoch 1/10\n",
      "60000/60000 [==============================] - 13s 216us/sample - loss: 0.0716 - accuracy: 0.9804\n",
      "Epoch 2/10\n",
      "60000/60000 [==============================] - 13s 210us/sample - loss: 0.0417 - accuracy: 0.9883\n",
      "Epoch 3/10\n",
      "60000/60000 [==============================] - 13s 211us/sample - loss: 0.0341 - accuracy: 0.9909\n",
      "Epoch 4/10\n",
      "60000/60000 [==============================] - 13s 218us/sample - loss: 0.0305 - accuracy: 0.9916\n",
      "Epoch 5/10\n",
      "60000/60000 [==============================] - 13s 214us/sample - loss: 0.0241 - accuracy: 0.9933\n",
      "Epoch 6/10\n",
      "60000/60000 [==============================] - 13s 216us/sample - loss: 0.0225 - accuracy: 0.9943\n",
      "Epoch 7/10\n",
      "60000/60000 [==============================] - 15s 251us/sample - loss: 0.0174 - accuracy: 0.9954\n",
      "Epoch 8/10\n",
      "60000/60000 [==============================] - 13s 216us/sample - loss: 0.0176 - accuracy: 0.9954\n",
      "Epoch 9/10\n",
      "60000/60000 [==============================] - 14s 230us/sample - loss: 0.0160 - accuracy: 0.9959\n",
      "Epoch 10/10\n",
      "60000/60000 [==============================] - 13s 213us/sample - loss: 0.0149 - accuracy: 0.9966\n"
     ]
    },
    {
     "data": {
      "text/plain": [
       "<tensorflow.python.keras.callbacks.History at 0x27b526a26d8>"
      ]
     },
     "execution_count": 52,
     "metadata": {},
     "output_type": "execute_result"
    }
   ],
   "source": [
    "model.fit(x_train,y_train,epochs=10)"
   ]
  },
  {
   "cell_type": "code",
   "execution_count": null,
   "metadata": {},
   "outputs": [],
   "source": []
  }
 ],
 "metadata": {
  "kernelspec": {
   "display_name": "Python 3",
   "language": "python",
   "name": "python3"
  },
  "language_info": {
   "codemirror_mode": {
    "name": "ipython",
    "version": 3
   },
   "file_extension": ".py",
   "mimetype": "text/x-python",
   "name": "python",
   "nbconvert_exporter": "python",
   "pygments_lexer": "ipython3",
   "version": "3.6.8"
  }
 },
 "nbformat": 4,
 "nbformat_minor": 4
}
