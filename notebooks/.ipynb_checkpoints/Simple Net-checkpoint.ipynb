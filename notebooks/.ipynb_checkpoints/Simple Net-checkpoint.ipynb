{
 "cells": [
  {
   "cell_type": "code",
   "execution_count": 1,
   "metadata": {},
   "outputs": [],
   "source": [
    "import numpy as np\n",
    "import cv2\n",
    "import matplotlib.pyplot as plt\n",
    "import tensorflow as tf\n",
    "\n",
    "%matplotlib inline"
   ]
  },
  {
   "cell_type": "code",
   "execution_count": 2,
   "metadata": {},
   "outputs": [],
   "source": [
    "from tensorflow import keras \n",
    "from tensorflow.keras.layers import *\n",
    "from tensorflow.keras.preprocessing.image import ImageDataGenerator"
   ]
  },
  {
   "cell_type": "code",
   "execution_count": 223,
   "metadata": {},
   "outputs": [],
   "source": [
    "(x_train, y_train), (x_test, y_test) = keras.datasets.mnist.load_data()\n",
    "x_train = x_train.reshape(-1,28,28,1) / 255\n",
    "x_test = x_test.reshape(-1,28,28,1) / 255"
   ]
  },
  {
   "cell_type": "code",
   "execution_count": 224,
   "metadata": {},
   "outputs": [],
   "source": [
    "y_train = keras.utils.to_categorical(y_train)\n",
    "y_test = keras.utils.to_categorical(y_test)"
   ]
  },
  {
   "cell_type": "code",
   "execution_count": 225,
   "metadata": {},
   "outputs": [
    {
     "data": {
      "text/plain": [
       "<matplotlib.image.AxesImage at 0x20d9597b898>"
      ]
     },
     "execution_count": 225,
     "metadata": {},
     "output_type": "execute_result"
    },
    {
     "data": {
      "image/png": "[encoded data removed]",
      "text/plain": [
       "<Figure size 432x288 with 1 Axes>"
      ]
     },
     "metadata": {
      "needs_background": "light"
     },
     "output_type": "display_data"
    }
   ],
   "source": [
    "i = np.random.randint(len(x_train))\n",
    "img = x_train[i].reshape(28,28)\n",
    "\n",
    "plt.imshow(img)"
   ]
  },
  {
   "cell_type": "markdown",
   "metadata": {},
   "source": [
    "### Cropping The Image"
   ]
  },
  {
   "cell_type": "code",
   "execution_count": 226,
   "metadata": {},
   "outputs": [
    {
     "data": {
      "text/plain": [
       "<matplotlib.image.AxesImage at 0x20df672ce48>"
      ]
     },
     "execution_count": 226,
     "metadata": {},
     "output_type": "execute_result"
    },
    {
     "data": {
      "image/png": "[encoded data removed]",
      "text/plain": [
       "<Figure size 432x288 with 1 Axes>"
      ]
     },
     "metadata": {
      "needs_background": "light"
     },
     "output_type": "display_data"
    }
   ],
   "source": [
    "def crop(img):\n",
    "    \n",
    "    img = img.reshape(28,28)\n",
    "    \n",
    "    xmin,xmax = np.where(img.std(axis=0) > .0 )[0][[0,-1]]\n",
    "    ymin,ymax = np.where(img.std(axis=1) > .0 )[0][[0,-1]]\n",
    "\n",
    "    xmin = np.max((0,xmin-2))\n",
    "    xmax = np.min((28,xmax+3))\n",
    "\n",
    "    ymin = np.max((0,ymin-2))\n",
    "    ymax = np.max((0,ymax+2))\n",
    "\n",
    "    img = cv2.resize(img[ymin:ymax,xmin:xmax],(28,28),interpolation=cv2.INTER_AREA)\n",
    "    img = cv2.erode(img,np.array([\n",
    "        [1,1],\n",
    "        [1,1],\n",
    "    ]))\n",
    "    \n",
    "    return img\n",
    "\n",
    "i = np.random.randint(len(x_train))\n",
    "img = x_train[i].copy()\n",
    "img = crop(img)\n",
    "\n",
    "plt.imshow(img)"
   ]
  },
  {
   "cell_type": "code",
   "execution_count": 227,
   "metadata": {},
   "outputs": [],
   "source": [
    "x_train_cropped = np.apply_along_axis(crop,1,x_train.reshape(-1,28*28))\n",
    "x_test_cropped = np.apply_along_axis(crop,1,x_test.reshape(-1,28*28))"
   ]
  },
  {
   "cell_type": "code",
   "execution_count": 228,
   "metadata": {},
   "outputs": [],
   "source": [
    "x_train_cropped = x_train_cropped.reshape(-1,28,28,1)\n",
    "x_test_cropped = x_test_cropped.reshape(-1,28,28,1)"
   ]
  },
  {
   "cell_type": "markdown",
   "metadata": {},
   "source": [
    "### Net"
   ]
  },
  {
   "cell_type": "code",
   "execution_count": 233,
   "metadata": {},
   "outputs": [],
   "source": [
    "_input = Input(shape=(28,28,1))\n",
    "\n",
    "conv0 = Conv2D(32,3,activation=\"relu\",padding=\"same\")(_input)\n",
    "conv1 = Conv2D(32,3,activation=\"relu\",padding=\"same\")(concatenate([_input,conv0]))\n",
    "pool1 = MaxPool2D()(conv1)\n",
    "\n",
    "conv2 = Conv2D(48,3,activation=\"relu\",padding=\"same\")(pool1)\n",
    "conv3 = Conv2D(48,3,activation=\"relu\",padding=\"same\")(concatenate([pool1,conv2]))\n",
    "pool2 = MaxPool2D()(conv3)\n",
    "\n",
    "norm = BatchNormalization()(pool2)\n",
    "flat = Flatten()(norm)\n",
    "\n",
    "dense0 = Dense(512,activation=\"relu\")(flat)\n",
    "dense1 = Dense(128,activation=\"relu\")(dense0)\n",
    "out = Dense(10,activation=\"softmax\")(dense1)\n",
    "\n",
    "model = keras.Model(_input,out)"
   ]
  },
  {
   "cell_type": "code",
   "execution_count": 234,
   "metadata": {},
   "outputs": [],
   "source": [
    "opt = keras.optimizers.Adam(learning_rate=1e-5)"
   ]
  },
  {
   "cell_type": "code",
   "execution_count": 235,
   "metadata": {},
   "outputs": [],
   "source": [
    "model.compile(optimizer=opt,loss=\"categorical_crossentropy\",metrics=['accuracy'])"
   ]
  },
  {
   "cell_type": "code",
   "execution_count": 236,
   "metadata": {},
   "outputs": [
    {
     "name": "stdout",
     "output_type": "stream",
     "text": [
      "Train on 60000 samples, validate on 10000 samples\n",
      "Epoch 1/10\n",
      "60000/60000 [==============================] - 27s 458us/sample - loss: 0.3563 - accuracy: 0.9075 - val_loss: 0.1145 - val_accuracy: 0.9649\n",
      "Epoch 2/10\n",
      "60000/60000 [==============================] - 27s 450us/sample - loss: 0.0939 - accuracy: 0.9740 - val_loss: 0.0712 - val_accuracy: 0.9787\n",
      "Epoch 3/10\n",
      "60000/60000 [==============================] - 27s 446us/sample - loss: 0.0609 - accuracy: 0.9832 - val_loss: 0.0544 - val_accuracy: 0.9830\n",
      "Epoch 4/10\n",
      "60000/60000 [==============================] - 27s 447us/sample - loss: 0.0454 - accuracy: 0.9874 - val_loss: 0.0442 - val_accuracy: 0.9859\n",
      "Epoch 5/10\n",
      "60000/60000 [==============================] - 26s 440us/sample - loss: 0.0365 - accuracy: 0.9903 - val_loss: 0.0379 - val_accuracy: 0.9875\n",
      "Epoch 6/10\n",
      "60000/60000 [==============================] - 30s 501us/sample - loss: 0.0301 - accuracy: 0.9918 - val_loss: 0.0367 - val_accuracy: 0.9875\n",
      "Epoch 7/10\n",
      "60000/60000 [==============================] - 28s 464us/sample - loss: 0.0254 - accuracy: 0.9937 - val_loss: 0.0330 - val_accuracy: 0.9897\n",
      "Epoch 8/10\n",
      "60000/60000 [==============================] - 27s 454us/sample - loss: 0.0214 - accuracy: 0.9949 - val_loss: 0.0310 - val_accuracy: 0.9901\n",
      "Epoch 9/10\n",
      "60000/60000 [==============================] - 27s 457us/sample - loss: 0.0185 - accuracy: 0.9953 - val_loss: 0.0299 - val_accuracy: 0.9904\n",
      "Epoch 10/10\n",
      "60000/60000 [==============================] - 26s 438us/sample - loss: 0.0157 - accuracy: 0.9965 - val_loss: 0.0287 - val_accuracy: 0.9908\n"
     ]
    },
    {
     "data": {
      "text/plain": [
       "<tensorflow.python.keras.callbacks.History at 0x20f55fa7080>"
      ]
     },
     "execution_count": 236,
     "metadata": {},
     "output_type": "execute_result"
    }
   ],
   "source": [
    "model.fit(x_train_cropped,y_train,validation_data=(x_test_cropped,y_test),epochs=10)"
   ]
  },
  {
   "cell_type": "code",
   "execution_count": 237,
   "metadata": {},
   "outputs": [],
   "source": [
    "model_save = model.to_json()"
   ]
  },
  {
   "cell_type": "code",
   "execution_count": 243,
   "metadata": {},
   "outputs": [
    {
     "data": {
      "text/plain": [
       "6186"
      ]
     },
     "execution_count": 243,
     "metadata": {},
     "output_type": "execute_result"
    }
   ],
   "source": [
    "open(\"simple_net/model.json\",\"w+\").write(model_save)"
   ]
  },
  {
   "cell_type": "code",
   "execution_count": 244,
   "metadata": {},
   "outputs": [],
   "source": [
    "model.save_weights(\"simple_net/ckp\")"
   ]
  }
 ],
 "metadata": {
  "kernelspec": {
   "display_name": "Python 3",
   "language": "python",
   "name": "python3"
  },
  "language_info": {
   "codemirror_mode": {
    "name": "ipython",
    "version": 3
   },
   "file_extension": ".py",
   "mimetype": "text/x-python",
   "name": "python",
   "nbconvert_exporter": "python",
   "pygments_lexer": "ipython3",
   "version": "3.6.8"
  }
 },
 "nbformat": 4,
 "nbformat_minor": 4
}
